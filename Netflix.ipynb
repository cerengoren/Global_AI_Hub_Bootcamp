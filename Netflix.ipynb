{
 "cells": [
  {
   "cell_type": "code",
   "execution_count": 1,
   "id": "b550fb8f",
   "metadata": {},
   "outputs": [],
   "source": [
    "import pandas as pd\n",
    "import os \n",
    "import seaborn as sns\n",
    "import matplotlib.pyplot as plt"
   ]
  },
  {
   "cell_type": "code",
   "execution_count": 2,
   "id": "04681b4f",
   "metadata": {},
   "outputs": [],
   "source": [
    "os.chdir(r\"C:\\Users\\ceren\\Desktop\\netflix\")"
   ]
  },
  {
   "cell_type": "code",
   "execution_count": 3,
   "id": "1622821a",
   "metadata": {
    "scrolled": false
   },
   "outputs": [
    {
     "data": {
      "text/html": [
       "<div>\n",
       "<style scoped>\n",
       "    .dataframe tbody tr th:only-of-type {\n",
       "        vertical-align: middle;\n",
       "    }\n",
       "\n",
       "    .dataframe tbody tr th {\n",
       "        vertical-align: top;\n",
       "    }\n",
       "\n",
       "    .dataframe thead th {\n",
       "        text-align: right;\n",
       "    }\n",
       "</style>\n",
       "<table border=\"1\" class=\"dataframe\">\n",
       "  <thead>\n",
       "    <tr style=\"text-align: right;\">\n",
       "      <th></th>\n",
       "      <th>Title</th>\n",
       "      <th>Genre</th>\n",
       "      <th>Premiere</th>\n",
       "      <th>Runtime</th>\n",
       "      <th>IMDB Score</th>\n",
       "      <th>Language</th>\n",
       "    </tr>\n",
       "  </thead>\n",
       "  <tbody>\n",
       "    <tr>\n",
       "      <th>0</th>\n",
       "      <td>Enter the Anime</td>\n",
       "      <td>Documentary</td>\n",
       "      <td>August 5, 2019</td>\n",
       "      <td>58</td>\n",
       "      <td>2.5</td>\n",
       "      <td>English/Japanese</td>\n",
       "    </tr>\n",
       "    <tr>\n",
       "      <th>1</th>\n",
       "      <td>Dark Forces</td>\n",
       "      <td>Thriller</td>\n",
       "      <td>August 21, 2020</td>\n",
       "      <td>81</td>\n",
       "      <td>2.6</td>\n",
       "      <td>Spanish</td>\n",
       "    </tr>\n",
       "    <tr>\n",
       "      <th>2</th>\n",
       "      <td>The App</td>\n",
       "      <td>Science fiction/Drama</td>\n",
       "      <td>December 26, 2019</td>\n",
       "      <td>79</td>\n",
       "      <td>2.6</td>\n",
       "      <td>Italian</td>\n",
       "    </tr>\n",
       "    <tr>\n",
       "      <th>3</th>\n",
       "      <td>The Open House</td>\n",
       "      <td>Horror thriller</td>\n",
       "      <td>January 19, 2018</td>\n",
       "      <td>94</td>\n",
       "      <td>3.2</td>\n",
       "      <td>English</td>\n",
       "    </tr>\n",
       "    <tr>\n",
       "      <th>4</th>\n",
       "      <td>Kaali Khuhi</td>\n",
       "      <td>Mystery</td>\n",
       "      <td>October 30, 2020</td>\n",
       "      <td>90</td>\n",
       "      <td>3.4</td>\n",
       "      <td>Hindi</td>\n",
       "    </tr>\n",
       "  </tbody>\n",
       "</table>\n",
       "</div>"
      ],
      "text/plain": [
       "             Title                  Genre           Premiere  Runtime  \\\n",
       "0  Enter the Anime            Documentary     August 5, 2019       58   \n",
       "1      Dark Forces               Thriller    August 21, 2020       81   \n",
       "2          The App  Science fiction/Drama  December 26, 2019       79   \n",
       "3   The Open House        Horror thriller   January 19, 2018       94   \n",
       "4      Kaali Khuhi                Mystery   October 30, 2020       90   \n",
       "\n",
       "   IMDB Score          Language  \n",
       "0         2.5  English/Japanese  \n",
       "1         2.6           Spanish  \n",
       "2         2.6           Italian  \n",
       "3         3.2           English  \n",
       "4         3.4             Hindi  "
      ]
     },
     "execution_count": 3,
     "metadata": {},
     "output_type": "execute_result"
    }
   ],
   "source": [
    "os.getcwd()\n",
    "df=pd.read_csv('netflix.csv')\n",
    "df.head()"
   ]
  },
  {
   "cell_type": "code",
   "execution_count": 4,
   "id": "327db10f",
   "metadata": {
    "scrolled": true
   },
   "outputs": [
    {
     "name": "stdout",
     "output_type": "stream",
     "text": [
      "<class 'pandas.core.frame.DataFrame'>\n",
      "RangeIndex: 584 entries, 0 to 583\n",
      "Data columns (total 6 columns):\n",
      " #   Column      Non-Null Count  Dtype  \n",
      "---  ------      --------------  -----  \n",
      " 0   Title       584 non-null    object \n",
      " 1   Genre       584 non-null    object \n",
      " 2   Premiere    584 non-null    object \n",
      " 3   Runtime     584 non-null    int64  \n",
      " 4   IMDB Score  584 non-null    float64\n",
      " 5   Language    584 non-null    object \n",
      "dtypes: float64(1), int64(1), object(4)\n",
      "memory usage: 27.5+ KB\n"
     ]
    }
   ],
   "source": [
    "df.info()"
   ]
  },
  {
   "cell_type": "code",
   "execution_count": 5,
   "id": "414ccabd",
   "metadata": {},
   "outputs": [],
   "source": [
    "df[\"Premiere\"]= pd.to_datetime(df['Premiere'])"
   ]
  },
  {
   "cell_type": "code",
   "execution_count": 6,
   "id": "4b18931b",
   "metadata": {
    "scrolled": true
   },
   "outputs": [
    {
     "name": "stdout",
     "output_type": "stream",
     "text": [
      "<class 'pandas.core.frame.DataFrame'>\n",
      "RangeIndex: 584 entries, 0 to 583\n",
      "Data columns (total 6 columns):\n",
      " #   Column      Non-Null Count  Dtype         \n",
      "---  ------      --------------  -----         \n",
      " 0   Title       584 non-null    object        \n",
      " 1   Genre       584 non-null    object        \n",
      " 2   Premiere    584 non-null    datetime64[ns]\n",
      " 3   Runtime     584 non-null    int64         \n",
      " 4   IMDB Score  584 non-null    float64       \n",
      " 5   Language    584 non-null    object        \n",
      "dtypes: datetime64[ns](1), float64(1), int64(1), object(3)\n",
      "memory usage: 27.5+ KB\n"
     ]
    }
   ],
   "source": [
    "df.info()"
   ]
  },
  {
   "cell_type": "markdown",
   "id": "5a037687",
   "metadata": {},
   "source": [
    "# Sorular"
   ]
  },
  {
   "cell_type": "markdown",
   "id": "896adb29",
   "metadata": {},
   "source": [
    "### 1.Veri setine göre uzun soluklu filmler hangi dilde oluşturulmuştur? Görselleştirme yapınız."
   ]
  },
  {
   "cell_type": "code",
   "execution_count": 7,
   "id": "ab513516",
   "metadata": {
    "scrolled": false
   },
   "outputs": [
    {
     "data": {
      "text/plain": [
       "<AxesSubplot:xlabel='count', ylabel='Language'>"
      ]
     },
     "execution_count": 7,
     "metadata": {},
     "output_type": "execute_result"
    },
    {
     "data": {
      "image/png": "[encoded data removed]",
      "text/plain": [
       "<Figure size 432x288 with 1 Axes>"
      ]
     },
     "metadata": {
      "needs_background": "light"
     },
     "output_type": "display_data"
    }
   ],
   "source": [
    "uzun_film=pd.DataFrame(df[df[\"Runtime\"] > 120][\"Language\"], columns=[\"Language\"])\n",
    "sns.countplot(y=uzun_film[\"Language\"], data=uzun_film)"
   ]
  },
  {
   "cell_type": "markdown",
   "id": "84daebf7",
   "metadata": {},
   "source": [
    "Bar grafiğinde görüldüğü üzere en uzun soluklu filmlerin dili İngilizcedir."
   ]
  },
  {
   "cell_type": "markdown",
   "id": "0f5d7e15",
   "metadata": {},
   "source": [
    "            "
   ]
  },
  {
   "cell_type": "markdown",
   "id": "76f59e4f",
   "metadata": {},
   "source": [
    "### 2. 2019 Ocak ile 2020 Haziran tarihleri arasında 'Documentary' türünde çekilmiş filmlerin IMDB değerlerini bulup görselleştiriniz."
   ]
  },
  {
   "cell_type": "code",
   "execution_count": 8,
   "id": "bc337368",
   "metadata": {},
   "outputs": [
    {
     "data": {
      "text/plain": [
       "[['Title', 'Genre', 'IMDB Score']]"
      ]
     },
     "execution_count": 8,
     "metadata": {},
     "output_type": "execute_result"
    }
   ],
   "source": [
    "df_imdb=df[(df['Premiere'] > '2019-01-01') & (df[\"Premiere\"] < '2020-06-01') & (df[\"Genre\"]==\"Documentary\")]\n",
    "[[\"Title\",\"Genre\",\"IMDB Score\"]]"
   ]
  },
  {
   "cell_type": "code",
   "execution_count": 9,
   "id": "59832a55",
   "metadata": {},
   "outputs": [
    {
     "data": {
      "text/plain": [
       "(array([ 1.,  0.,  0.,  3.,  0.,  1.,  8., 19., 15.,  2.]),\n",
       " array([2.5 , 3.08, 3.66, 4.24, 4.82, 5.4 , 5.98, 6.56, 7.14, 7.72, 8.3 ]),\n",
       " <BarContainer object of 10 artists>)"
      ]
     },
     "execution_count": 9,
     "metadata": {},
     "output_type": "execute_result"
    },
    {
     "data": {
      "image/png": "[encoded data removed]",
      "text/plain": [
       "<Figure size 432x288 with 1 Axes>"
      ]
     },
     "metadata": {
      "needs_background": "light"
     },
     "output_type": "display_data"
    }
   ],
   "source": [
    "plt.hist(df_imdb[\"IMDB Score\"])"
   ]
  },
  {
   "cell_type": "markdown",
   "id": "5d60c508",
   "metadata": {},
   "source": [
    "Histogram grafiğinde yığılma yoğunluğunun 6 ile 8 arasında olduğunu söyleyebiliriz."
   ]
  },
  {
   "cell_type": "markdown",
   "id": "65bea1fa",
   "metadata": {},
   "source": [
    "### 3.İngilizce çekilen filmler içerisinde hangi tür en yüksek IMDB puanına sahiptir?\n"
   ]
  },
  {
   "cell_type": "code",
   "execution_count": 10,
   "id": "fdd39d1d",
   "metadata": {
    "scrolled": false
   },
   "outputs": [
    {
     "data": {
      "text/plain": [
       "IMDB Score             9.0\n",
       "Genre         Zombie/Heist\n",
       "dtype: object"
      ]
     },
     "execution_count": 10,
     "metadata": {},
     "output_type": "execute_result"
    }
   ],
   "source": [
    "df.loc[df[\"Language\"]==\"English\"][[\"IMDB Score\",\"Genre\"]].max()\n"
   ]
  },
  {
   "cell_type": "markdown",
   "id": "d10a5186",
   "metadata": {},
   "source": [
    "İngilizce çekilen filmler arasında en yüksek IMDB puanına sahip kategori Zombie/Heist'dır."
   ]
  },
  {
   "cell_type": "markdown",
   "id": "dc6e9a57",
   "metadata": {},
   "source": [
    "### 4.'Hindi' Dilinde çekilmiş olan filmlerin ortalama 'runtime' suresi nedir?"
   ]
  },
  {
   "cell_type": "code",
   "execution_count": 11,
   "id": "9cb7872f",
   "metadata": {
    "scrolled": true
   },
   "outputs": [
    {
     "data": {
      "text/plain": [
       "115.78787878787878"
      ]
     },
     "execution_count": 11,
     "metadata": {},
     "output_type": "execute_result"
    }
   ],
   "source": [
    "df.loc[df[\"Language\"]==\"Hindi\"][\"Runtime\"].mean()"
   ]
  },
  {
   "cell_type": "markdown",
   "id": "df2d2aae",
   "metadata": {},
   "source": [
    "115.78 dakikadır."
   ]
  },
  {
   "cell_type": "markdown",
   "id": "7ce84a83",
   "metadata": {},
   "source": [
    "### 5.'Genre' Sütunu kaç kategoriye sahiptir ve bu kategoriler nelerdir? Görselleştirerek ifade ediniz."
   ]
  },
  {
   "cell_type": "code",
   "execution_count": 12,
   "id": "ff548e58",
   "metadata": {
    "scrolled": true
   },
   "outputs": [
    {
     "data": {
      "text/plain": [
       "Documentary                             159\n",
       "Drama                                    77\n",
       "Comedy                                   49\n",
       "Romantic comedy                          39\n",
       "Thriller                                 33\n",
       "                                       ... \n",
       "Stop Motion                               1\n",
       "Animation/Christmas/Comedy/Adventure      1\n",
       "Comedy/Fantasy/Family                     1\n",
       "Animation / Science Fiction               1\n",
       "Horror comedy                             1\n",
       "Name: Genre, Length: 115, dtype: int64"
      ]
     },
     "execution_count": 12,
     "metadata": {},
     "output_type": "execute_result"
    }
   ],
   "source": [
    "df_genre=df[\"Genre\"].value_counts()\n",
    "df_genre"
   ]
  },
  {
   "cell_type": "code",
   "execution_count": 13,
   "id": "62344241",
   "metadata": {
    "scrolled": false
   },
   "outputs": [
    {
     "data": {
      "text/plain": [
       "115"
      ]
     },
     "execution_count": 13,
     "metadata": {},
     "output_type": "execute_result"
    }
   ],
   "source": [
    "df[\"Genre\"].nunique()"
   ]
  },
  {
   "cell_type": "markdown",
   "id": "bb10cddd",
   "metadata": {},
   "source": [
    "Genre sütunu 115 farklı kategoriye sahiptir."
   ]
  },
  {
   "cell_type": "code",
   "execution_count": 14,
   "id": "a3756170",
   "metadata": {
    "scrolled": true
   },
   "outputs": [
    {
     "data": {
      "image/png": "[encoded data removed]",
      "text/plain": [
       "<Figure size 1440x1440 with 1 Axes>"
      ]
     },
     "metadata": {
      "needs_background": "light"
     },
     "output_type": "display_data"
    }
   ],
   "source": [
    "(df[\"Genre\"]\n",
    " .value_counts()\n",
    " .plot.barh(figsize=(20,20))\n",
    " .set_title(\"Genre Değişkeninin Sınıf Frekansları\")) ;\n"
   ]
  },
  {
   "cell_type": "markdown",
   "id": "567a3cc3",
   "metadata": {},
   "source": [
    "### 6.Veri setinde bulunan filmlerde en çok kullanılan 3 dili bulunuz."
   ]
  },
  {
   "cell_type": "code",
   "execution_count": 15,
   "id": "9c08b88a",
   "metadata": {
    "scrolled": false
   },
   "outputs": [
    {
     "data": {
      "text/plain": [
       "English    401\n",
       "Hindi       33\n",
       "Spanish     31\n",
       "Name: Language, dtype: int64"
      ]
     },
     "execution_count": 15,
     "metadata": {},
     "output_type": "execute_result"
    }
   ],
   "source": [
    "df[\"Language\"].value_counts().head(3)"
   ]
  },
  {
   "cell_type": "markdown",
   "id": "9e4145cb",
   "metadata": {},
   "source": [
    "İngilizce, Hintçe ve İspanyolca."
   ]
  },
  {
   "cell_type": "markdown",
   "id": "e6276a6e",
   "metadata": {},
   "source": [
    "### 7.IMDB puanı en yüksek olan ilk 10 film hangileridir?"
   ]
  },
  {
   "cell_type": "code",
   "execution_count": 16,
   "id": "6c43d9b7",
   "metadata": {},
   "outputs": [
    {
     "data": {
      "text/html": [
       "<div>\n",
       "<style scoped>\n",
       "    .dataframe tbody tr th:only-of-type {\n",
       "        vertical-align: middle;\n",
       "    }\n",
       "\n",
       "    .dataframe tbody tr th {\n",
       "        vertical-align: top;\n",
       "    }\n",
       "\n",
       "    .dataframe thead th {\n",
       "        text-align: right;\n",
       "    }\n",
       "</style>\n",
       "<table border=\"1\" class=\"dataframe\">\n",
       "  <thead>\n",
       "    <tr style=\"text-align: right;\">\n",
       "      <th></th>\n",
       "      <th>Title</th>\n",
       "      <th>Genre</th>\n",
       "      <th>Premiere</th>\n",
       "      <th>Runtime</th>\n",
       "      <th>IMDB Score</th>\n",
       "      <th>Language</th>\n",
       "    </tr>\n",
       "  </thead>\n",
       "  <tbody>\n",
       "    <tr>\n",
       "      <th>583</th>\n",
       "      <td>David Attenborough: A Life on Our Planet</td>\n",
       "      <td>Documentary</td>\n",
       "      <td>2020-10-04</td>\n",
       "      <td>83</td>\n",
       "      <td>9.0</td>\n",
       "      <td>English</td>\n",
       "    </tr>\n",
       "    <tr>\n",
       "      <th>582</th>\n",
       "      <td>Emicida: AmarElo - It's All For Yesterday</td>\n",
       "      <td>Documentary</td>\n",
       "      <td>2020-12-08</td>\n",
       "      <td>89</td>\n",
       "      <td>8.6</td>\n",
       "      <td>Portuguese</td>\n",
       "    </tr>\n",
       "    <tr>\n",
       "      <th>581</th>\n",
       "      <td>Springsteen on Broadway</td>\n",
       "      <td>One-man show</td>\n",
       "      <td>2018-12-16</td>\n",
       "      <td>153</td>\n",
       "      <td>8.5</td>\n",
       "      <td>English</td>\n",
       "    </tr>\n",
       "    <tr>\n",
       "      <th>578</th>\n",
       "      <td>Ben Platt: Live from Radio City Music Hall</td>\n",
       "      <td>Concert Film</td>\n",
       "      <td>2020-05-20</td>\n",
       "      <td>85</td>\n",
       "      <td>8.4</td>\n",
       "      <td>English</td>\n",
       "    </tr>\n",
       "    <tr>\n",
       "      <th>579</th>\n",
       "      <td>Taylor Swift: Reputation Stadium Tour</td>\n",
       "      <td>Concert Film</td>\n",
       "      <td>2018-12-31</td>\n",
       "      <td>125</td>\n",
       "      <td>8.4</td>\n",
       "      <td>English</td>\n",
       "    </tr>\n",
       "    <tr>\n",
       "      <th>580</th>\n",
       "      <td>Winter on Fire: Ukraine's Fight for Freedom</td>\n",
       "      <td>Documentary</td>\n",
       "      <td>2015-10-09</td>\n",
       "      <td>91</td>\n",
       "      <td>8.4</td>\n",
       "      <td>English/Ukranian/Russian</td>\n",
       "    </tr>\n",
       "    <tr>\n",
       "      <th>576</th>\n",
       "      <td>Cuba and the Cameraman</td>\n",
       "      <td>Documentary</td>\n",
       "      <td>2017-11-24</td>\n",
       "      <td>114</td>\n",
       "      <td>8.3</td>\n",
       "      <td>English</td>\n",
       "    </tr>\n",
       "    <tr>\n",
       "      <th>577</th>\n",
       "      <td>Dancing with the Birds</td>\n",
       "      <td>Documentary</td>\n",
       "      <td>2019-10-23</td>\n",
       "      <td>51</td>\n",
       "      <td>8.3</td>\n",
       "      <td>English</td>\n",
       "    </tr>\n",
       "    <tr>\n",
       "      <th>571</th>\n",
       "      <td>13th</td>\n",
       "      <td>Documentary</td>\n",
       "      <td>2016-10-07</td>\n",
       "      <td>100</td>\n",
       "      <td>8.2</td>\n",
       "      <td>English</td>\n",
       "    </tr>\n",
       "    <tr>\n",
       "      <th>572</th>\n",
       "      <td>Disclosure: Trans Lives on Screen</td>\n",
       "      <td>Documentary</td>\n",
       "      <td>2020-06-19</td>\n",
       "      <td>107</td>\n",
       "      <td>8.2</td>\n",
       "      <td>English</td>\n",
       "    </tr>\n",
       "  </tbody>\n",
       "</table>\n",
       "</div>"
      ],
      "text/plain": [
       "                                           Title         Genre   Premiere  \\\n",
       "583     David Attenborough: A Life on Our Planet   Documentary 2020-10-04   \n",
       "582    Emicida: AmarElo - It's All For Yesterday   Documentary 2020-12-08   \n",
       "581                      Springsteen on Broadway  One-man show 2018-12-16   \n",
       "578   Ben Platt: Live from Radio City Music Hall  Concert Film 2020-05-20   \n",
       "579        Taylor Swift: Reputation Stadium Tour  Concert Film 2018-12-31   \n",
       "580  Winter on Fire: Ukraine's Fight for Freedom   Documentary 2015-10-09   \n",
       "576                      Cuba and the Cameraman    Documentary 2017-11-24   \n",
       "577                       Dancing with the Birds   Documentary 2019-10-23   \n",
       "571                                         13th   Documentary 2016-10-07   \n",
       "572            Disclosure: Trans Lives on Screen   Documentary 2020-06-19   \n",
       "\n",
       "     Runtime  IMDB Score                  Language  \n",
       "583       83         9.0                   English  \n",
       "582       89         8.6                Portuguese  \n",
       "581      153         8.5                   English  \n",
       "578       85         8.4                   English  \n",
       "579      125         8.4                   English  \n",
       "580       91         8.4  English/Ukranian/Russian  \n",
       "576      114         8.3                   English  \n",
       "577       51         8.3                   English  \n",
       "571      100         8.2                   English  \n",
       "572      107         8.2                   English  "
      ]
     },
     "execution_count": 16,
     "metadata": {},
     "output_type": "execute_result"
    }
   ],
   "source": [
    "top_10=df.nlargest(n=10, columns=(\"IMDB Score\"))\n",
    "top_10"
   ]
  },
  {
   "cell_type": "markdown",
   "id": "ea8beb3a",
   "metadata": {},
   "source": [
    "### 8.IMDB puanı ile 'Runtime' arasında nasıl bir korelasyon vardır? İnceleyip görselleştiriniz."
   ]
  },
  {
   "cell_type": "code",
   "execution_count": 17,
   "id": "0f7b50a0",
   "metadata": {},
   "outputs": [
    {
     "data": {
      "image/png": "[encoded data removed]",
      "text/plain": [
       "<Figure size 432x288 with 1 Axes>"
      ]
     },
     "metadata": {
      "needs_background": "light"
     },
     "output_type": "display_data"
    }
   ],
   "source": [
    "sns.scatterplot(x=\"IMDB Score\", y=\"Runtime\", data=df);"
   ]
  },
  {
   "cell_type": "markdown",
   "id": "5dee31fa",
   "metadata": {},
   "source": [
    "Korelasyon yoktur."
   ]
  },
  {
   "cell_type": "markdown",
   "id": "6fc67143",
   "metadata": {},
   "source": [
    "### 9.IMDB Puanı en yüksek olan ilk 10 'Genre' hangileridir? Görselleştiriniz."
   ]
  },
  {
   "cell_type": "code",
   "execution_count": 18,
   "id": "2d26e13c",
   "metadata": {
    "scrolled": false
   },
   "outputs": [
    {
     "data": {
      "text/html": [
       "<div>\n",
       "<style scoped>\n",
       "    .dataframe tbody tr th:only-of-type {\n",
       "        vertical-align: middle;\n",
       "    }\n",
       "\n",
       "    .dataframe tbody tr th {\n",
       "        vertical-align: top;\n",
       "    }\n",
       "\n",
       "    .dataframe thead th {\n",
       "        text-align: right;\n",
       "    }\n",
       "</style>\n",
       "<table border=\"1\" class=\"dataframe\">\n",
       "  <thead>\n",
       "    <tr style=\"text-align: right;\">\n",
       "      <th></th>\n",
       "      <th>IMDB Score</th>\n",
       "    </tr>\n",
       "    <tr>\n",
       "      <th>Genre</th>\n",
       "      <th></th>\n",
       "    </tr>\n",
       "  </thead>\n",
       "  <tbody>\n",
       "    <tr>\n",
       "      <th>Documentary</th>\n",
       "      <td>9.0</td>\n",
       "    </tr>\n",
       "    <tr>\n",
       "      <th>One-man show</th>\n",
       "      <td>8.5</td>\n",
       "    </tr>\n",
       "    <tr>\n",
       "      <th>Concert Film</th>\n",
       "      <td>8.4</td>\n",
       "    </tr>\n",
       "    <tr>\n",
       "      <th>Animation/Christmas/Comedy/Adventure</th>\n",
       "      <td>8.2</td>\n",
       "    </tr>\n",
       "    <tr>\n",
       "      <th>Drama</th>\n",
       "      <td>7.9</td>\n",
       "    </tr>\n",
       "    <tr>\n",
       "      <th>Animation / Short</th>\n",
       "      <td>7.8</td>\n",
       "    </tr>\n",
       "    <tr>\n",
       "      <th>Crime drama</th>\n",
       "      <td>7.8</td>\n",
       "    </tr>\n",
       "    <tr>\n",
       "      <th>Musical / Short</th>\n",
       "      <td>7.7</td>\n",
       "    </tr>\n",
       "    <tr>\n",
       "      <th>Making-of</th>\n",
       "      <td>7.7</td>\n",
       "    </tr>\n",
       "    <tr>\n",
       "      <th>War drama</th>\n",
       "      <td>7.7</td>\n",
       "    </tr>\n",
       "  </tbody>\n",
       "</table>\n",
       "</div>"
      ],
      "text/plain": [
       "                                      IMDB Score\n",
       "Genre                                           \n",
       "Documentary                                  9.0\n",
       "One-man show                                 8.5\n",
       "Concert Film                                 8.4\n",
       "Animation/Christmas/Comedy/Adventure         8.2\n",
       "Drama                                        7.9\n",
       "Animation / Short                            7.8\n",
       "Crime drama                                  7.8\n",
       "Musical / Short                              7.7\n",
       "Making-of                                    7.7\n",
       "War drama                                    7.7"
      ]
     },
     "execution_count": 18,
     "metadata": {},
     "output_type": "execute_result"
    }
   ],
   "source": [
    "top_10_g=df.groupby(\"Genre\").agg({\"IMDB Score\": \"max\"}).sort_values(by=\"IMDB Score\",ascending=False).head(10)\n",
    "top_10_g\n"
   ]
  },
  {
   "cell_type": "code",
   "execution_count": 19,
   "id": "2a612687",
   "metadata": {},
   "outputs": [
    {
     "data": {
      "text/html": [
       "<div>\n",
       "<style scoped>\n",
       "    .dataframe tbody tr th:only-of-type {\n",
       "        vertical-align: middle;\n",
       "    }\n",
       "\n",
       "    .dataframe tbody tr th {\n",
       "        vertical-align: top;\n",
       "    }\n",
       "\n",
       "    .dataframe thead th {\n",
       "        text-align: right;\n",
       "    }\n",
       "</style>\n",
       "<table border=\"1\" class=\"dataframe\">\n",
       "  <thead>\n",
       "    <tr style=\"text-align: right;\">\n",
       "      <th></th>\n",
       "      <th>Genre</th>\n",
       "      <th>IMDB Score</th>\n",
       "    </tr>\n",
       "  </thead>\n",
       "  <tbody>\n",
       "    <tr>\n",
       "      <th>0</th>\n",
       "      <td>Documentary</td>\n",
       "      <td>9.0</td>\n",
       "    </tr>\n",
       "    <tr>\n",
       "      <th>1</th>\n",
       "      <td>One-man show</td>\n",
       "      <td>8.5</td>\n",
       "    </tr>\n",
       "    <tr>\n",
       "      <th>2</th>\n",
       "      <td>Concert Film</td>\n",
       "      <td>8.4</td>\n",
       "    </tr>\n",
       "    <tr>\n",
       "      <th>3</th>\n",
       "      <td>Animation/Christmas/Comedy/Adventure</td>\n",
       "      <td>8.2</td>\n",
       "    </tr>\n",
       "    <tr>\n",
       "      <th>4</th>\n",
       "      <td>Drama</td>\n",
       "      <td>7.9</td>\n",
       "    </tr>\n",
       "    <tr>\n",
       "      <th>5</th>\n",
       "      <td>Animation / Short</td>\n",
       "      <td>7.8</td>\n",
       "    </tr>\n",
       "    <tr>\n",
       "      <th>6</th>\n",
       "      <td>Crime drama</td>\n",
       "      <td>7.8</td>\n",
       "    </tr>\n",
       "    <tr>\n",
       "      <th>7</th>\n",
       "      <td>Musical / Short</td>\n",
       "      <td>7.7</td>\n",
       "    </tr>\n",
       "    <tr>\n",
       "      <th>8</th>\n",
       "      <td>Making-of</td>\n",
       "      <td>7.7</td>\n",
       "    </tr>\n",
       "    <tr>\n",
       "      <th>9</th>\n",
       "      <td>War drama</td>\n",
       "      <td>7.7</td>\n",
       "    </tr>\n",
       "  </tbody>\n",
       "</table>\n",
       "</div>"
      ],
      "text/plain": [
       "                                  Genre  IMDB Score\n",
       "0                           Documentary         9.0\n",
       "1                          One-man show         8.5\n",
       "2                          Concert Film         8.4\n",
       "3  Animation/Christmas/Comedy/Adventure         8.2\n",
       "4                                 Drama         7.9\n",
       "5                     Animation / Short         7.8\n",
       "6                           Crime drama         7.8\n",
       "7                       Musical / Short         7.7\n",
       "8                             Making-of         7.7\n",
       "9                             War drama         7.7"
      ]
     },
     "execution_count": 19,
     "metadata": {},
     "output_type": "execute_result"
    }
   ],
   "source": [
    "\n",
    "top_10_g[\"Genre\"] = top_10_g.index\n",
    "top_10_g.drop(\"Genre\", axis=1, inplace=True)\n",
    "\n",
    "top_10_g.reset_index().head()\n",
    "top_10_g = top_10_g.reset_index()\n",
    "top_10_g"
   ]
  },
  {
   "cell_type": "code",
   "execution_count": 20,
   "id": "99f95d86",
   "metadata": {},
   "outputs": [
    {
     "data": {
      "text/plain": [
       "<AxesSubplot:xlabel='IMDB Score', ylabel='Genre'>"
      ]
     },
     "execution_count": 20,
     "metadata": {},
     "output_type": "execute_result"
    },
    {
     "data": {
      "image/png": "[encoded data removed]",
      "text/plain": [
       "<Figure size 432x288 with 1 Axes>"
      ]
     },
     "metadata": {
      "needs_background": "light"
     },
     "output_type": "display_data"
    }
   ],
   "source": [
    "sns.barplot(x=\"IMDB Score\",y= \"Genre\" ,data=top_10_g)"
   ]
  },
  {
   "cell_type": "markdown",
   "id": "98cf8e18",
   "metadata": {},
   "source": [
    "### 10.'Runtime' değeri en yüksek olan ilk 10 film hangileridir? Görselleştiriniz."
   ]
  },
  {
   "cell_type": "code",
   "execution_count": 21,
   "id": "69546e51",
   "metadata": {},
   "outputs": [
    {
     "data": {
      "text/html": [
       "<div>\n",
       "<style scoped>\n",
       "    .dataframe tbody tr th:only-of-type {\n",
       "        vertical-align: middle;\n",
       "    }\n",
       "\n",
       "    .dataframe tbody tr th {\n",
       "        vertical-align: top;\n",
       "    }\n",
       "\n",
       "    .dataframe thead th {\n",
       "        text-align: right;\n",
       "    }\n",
       "</style>\n",
       "<table border=\"1\" class=\"dataframe\">\n",
       "  <thead>\n",
       "    <tr style=\"text-align: right;\">\n",
       "      <th></th>\n",
       "      <th>Title</th>\n",
       "      <th>Genre</th>\n",
       "      <th>Premiere</th>\n",
       "      <th>Runtime</th>\n",
       "      <th>IMDB Score</th>\n",
       "      <th>Language</th>\n",
       "    </tr>\n",
       "  </thead>\n",
       "  <tbody>\n",
       "    <tr>\n",
       "      <th>561</th>\n",
       "      <td>The Irishman</td>\n",
       "      <td>Crime drama</td>\n",
       "      <td>2019-11-27</td>\n",
       "      <td>209</td>\n",
       "      <td>7.8</td>\n",
       "      <td>English</td>\n",
       "    </tr>\n",
       "    <tr>\n",
       "      <th>328</th>\n",
       "      <td>Da 5 Bloods</td>\n",
       "      <td>War drama</td>\n",
       "      <td>2020-06-12</td>\n",
       "      <td>155</td>\n",
       "      <td>6.5</td>\n",
       "      <td>English</td>\n",
       "    </tr>\n",
       "    <tr>\n",
       "      <th>581</th>\n",
       "      <td>Springsteen on Broadway</td>\n",
       "      <td>One-man show</td>\n",
       "      <td>2018-12-16</td>\n",
       "      <td>153</td>\n",
       "      <td>8.5</td>\n",
       "      <td>English</td>\n",
       "    </tr>\n",
       "    <tr>\n",
       "      <th>247</th>\n",
       "      <td>Citation</td>\n",
       "      <td>Drama</td>\n",
       "      <td>2020-11-06</td>\n",
       "      <td>151</td>\n",
       "      <td>6.2</td>\n",
       "      <td>English</td>\n",
       "    </tr>\n",
       "    <tr>\n",
       "      <th>284</th>\n",
       "      <td>The Forest of Love</td>\n",
       "      <td>Drama</td>\n",
       "      <td>2019-10-11</td>\n",
       "      <td>151</td>\n",
       "      <td>6.3</td>\n",
       "      <td>Japanese</td>\n",
       "    </tr>\n",
       "    <tr>\n",
       "      <th>7</th>\n",
       "      <td>The Last Days of American Crime</td>\n",
       "      <td>Heist film/Thriller</td>\n",
       "      <td>2020-06-05</td>\n",
       "      <td>149</td>\n",
       "      <td>3.7</td>\n",
       "      <td>English</td>\n",
       "    </tr>\n",
       "    <tr>\n",
       "      <th>509</th>\n",
       "      <td>Raat Akeli Hai</td>\n",
       "      <td>Thriller</td>\n",
       "      <td>2020-07-31</td>\n",
       "      <td>149</td>\n",
       "      <td>7.3</td>\n",
       "      <td>Hindi</td>\n",
       "    </tr>\n",
       "    <tr>\n",
       "      <th>543</th>\n",
       "      <td>Ludo</td>\n",
       "      <td>Anthology/Dark comedy</td>\n",
       "      <td>2020-11-12</td>\n",
       "      <td>149</td>\n",
       "      <td>7.6</td>\n",
       "      <td>Hindi</td>\n",
       "    </tr>\n",
       "    <tr>\n",
       "      <th>194</th>\n",
       "      <td>Army of the Dead</td>\n",
       "      <td>Zombie/Heist</td>\n",
       "      <td>2021-05-21</td>\n",
       "      <td>148</td>\n",
       "      <td>5.9</td>\n",
       "      <td>English</td>\n",
       "    </tr>\n",
       "    <tr>\n",
       "      <th>5</th>\n",
       "      <td>Drive</td>\n",
       "      <td>Action</td>\n",
       "      <td>2019-11-01</td>\n",
       "      <td>147</td>\n",
       "      <td>3.5</td>\n",
       "      <td>Hindi</td>\n",
       "    </tr>\n",
       "  </tbody>\n",
       "</table>\n",
       "</div>"
      ],
      "text/plain": [
       "                               Title                  Genre   Premiere  \\\n",
       "561                     The Irishman            Crime drama 2019-11-27   \n",
       "328                      Da 5 Bloods              War drama 2020-06-12   \n",
       "581          Springsteen on Broadway           One-man show 2018-12-16   \n",
       "247                         Citation                  Drama 2020-11-06   \n",
       "284               The Forest of Love                  Drama 2019-10-11   \n",
       "7    The Last Days of American Crime    Heist film/Thriller 2020-06-05   \n",
       "509                   Raat Akeli Hai               Thriller 2020-07-31   \n",
       "543                             Ludo  Anthology/Dark comedy 2020-11-12   \n",
       "194                 Army of the Dead           Zombie/Heist 2021-05-21   \n",
       "5                              Drive                 Action 2019-11-01   \n",
       "\n",
       "     Runtime  IMDB Score  Language  \n",
       "561      209         7.8   English  \n",
       "328      155         6.5   English  \n",
       "581      153         8.5   English  \n",
       "247      151         6.2   English  \n",
       "284      151         6.3  Japanese  \n",
       "7        149         3.7   English  \n",
       "509      149         7.3     Hindi  \n",
       "543      149         7.6     Hindi  \n",
       "194      148         5.9   English  \n",
       "5        147         3.5     Hindi  "
      ]
     },
     "execution_count": 21,
     "metadata": {},
     "output_type": "execute_result"
    }
   ],
   "source": [
    "top_10_rt=df.nlargest(n=10, columns=(\"Runtime\"))\n",
    "top_10_rt"
   ]
  },
  {
   "cell_type": "code",
   "execution_count": 22,
   "id": "0dca36ac",
   "metadata": {},
   "outputs": [
    {
     "data": {
      "text/plain": [
       "<AxesSubplot:xlabel='Runtime', ylabel='Title'>"
      ]
     },
     "execution_count": 22,
     "metadata": {},
     "output_type": "execute_result"
    },
    {
     "data": {
      "image/png": "[encoded data removed]",
      "text/plain": [
       "<Figure size 432x288 with 1 Axes>"
      ]
     },
     "metadata": {
      "needs_background": "light"
     },
     "output_type": "display_data"
    }
   ],
   "source": [
    "sns.barplot(x=\"Runtime\", y=\"Title\" ,data=top_10_rt)"
   ]
  },
  {
   "cell_type": "markdown",
   "id": "bd665384",
   "metadata": {},
   "source": [
    "### 11. Hangi yılda en fazla film yayımlanmıştır? Görselleştiriniz.\n"
   ]
  },
  {
   "cell_type": "code",
   "execution_count": 23,
   "id": "192cc202",
   "metadata": {
    "scrolled": true
   },
   "outputs": [
    {
     "data": {
      "text/plain": [
       "2020    183\n",
       "2019    125\n",
       "2018     99\n",
       "2021     71\n",
       "2017     66\n",
       "2016     30\n",
       "2015      9\n",
       "2014      1\n",
       "Name: Premiere, dtype: int64"
      ]
     },
     "execution_count": 23,
     "metadata": {},
     "output_type": "execute_result"
    }
   ],
   "source": [
    "df['Premiere'].dt.year.value_counts()"
   ]
  },
  {
   "cell_type": "code",
   "execution_count": 24,
   "id": "8f545830",
   "metadata": {},
   "outputs": [
    {
     "data": {
      "text/plain": [
       "Text(0.5, 1.0, 'Premiere Değişkeninin Sınıf Frekansları')"
      ]
     },
     "execution_count": 24,
     "metadata": {},
     "output_type": "execute_result"
    },
    {
     "data": {
      "image/png": "[encoded data removed]",
      "text/plain": [
       "<Figure size 720x720 with 1 Axes>"
      ]
     },
     "metadata": {
      "needs_background": "light"
     },
     "output_type": "display_data"
    }
   ],
   "source": [
    "(df[\"Premiere\"]\n",
    " .dt\n",
    " .year\n",
    " .value_counts()\n",
    " .plot.barh(figsize=(10,10))\n",
    " .set_title(\"Premiere Değişkeninin Sınıf Frekansları\"))"
   ]
  },
  {
   "cell_type": "markdown",
   "id": "14acf690",
   "metadata": {},
   "source": [
    "### 12. Hangi dilde yayımlanan filmler en düşük ortalama IMBD puanına sahiptir? Görselleştiriniz."
   ]
  },
  {
   "cell_type": "code",
   "execution_count": 25,
   "id": "abd0e2bd",
   "metadata": {},
   "outputs": [],
   "source": [
    "lang_mean=df.groupby(\"Language\")[\"IMDB Score\"].mean()\n",
    "\n",
    "lm = pd.DataFrame(lang_mean)"
   ]
  },
  {
   "cell_type": "code",
   "execution_count": 26,
   "id": "16abef6f",
   "metadata": {
    "scrolled": true
   },
   "outputs": [
    {
     "data": {
      "text/html": [
       "<div>\n",
       "<style scoped>\n",
       "    .dataframe tbody tr th:only-of-type {\n",
       "        vertical-align: middle;\n",
       "    }\n",
       "\n",
       "    .dataframe tbody tr th {\n",
       "        vertical-align: top;\n",
       "    }\n",
       "\n",
       "    .dataframe thead th {\n",
       "        text-align: right;\n",
       "    }\n",
       "</style>\n",
       "<table border=\"1\" class=\"dataframe\">\n",
       "  <thead>\n",
       "    <tr style=\"text-align: right;\">\n",
       "      <th></th>\n",
       "      <th>Language</th>\n",
       "      <th>IMDB Score</th>\n",
       "    </tr>\n",
       "  </thead>\n",
       "  <tbody>\n",
       "    <tr>\n",
       "      <th>0</th>\n",
       "      <td>Bengali</td>\n",
       "      <td>7.100000</td>\n",
       "    </tr>\n",
       "    <tr>\n",
       "      <th>1</th>\n",
       "      <td>Dutch</td>\n",
       "      <td>5.800000</td>\n",
       "    </tr>\n",
       "    <tr>\n",
       "      <th>2</th>\n",
       "      <td>English</td>\n",
       "      <td>6.380050</td>\n",
       "    </tr>\n",
       "    <tr>\n",
       "      <th>3</th>\n",
       "      <td>English/Akan</td>\n",
       "      <td>7.700000</td>\n",
       "    </tr>\n",
       "    <tr>\n",
       "      <th>4</th>\n",
       "      <td>English/Arabic</td>\n",
       "      <td>7.300000</td>\n",
       "    </tr>\n",
       "    <tr>\n",
       "      <th>5</th>\n",
       "      <td>English/Hindi</td>\n",
       "      <td>7.300000</td>\n",
       "    </tr>\n",
       "    <tr>\n",
       "      <th>6</th>\n",
       "      <td>English/Japanese</td>\n",
       "      <td>4.400000</td>\n",
       "    </tr>\n",
       "    <tr>\n",
       "      <th>7</th>\n",
       "      <td>English/Korean</td>\n",
       "      <td>7.300000</td>\n",
       "    </tr>\n",
       "    <tr>\n",
       "      <th>8</th>\n",
       "      <td>English/Mandarin</td>\n",
       "      <td>7.050000</td>\n",
       "    </tr>\n",
       "    <tr>\n",
       "      <th>9</th>\n",
       "      <td>English/Russian</td>\n",
       "      <td>7.300000</td>\n",
       "    </tr>\n",
       "    <tr>\n",
       "      <th>10</th>\n",
       "      <td>English/Spanish</td>\n",
       "      <td>6.220000</td>\n",
       "    </tr>\n",
       "    <tr>\n",
       "      <th>11</th>\n",
       "      <td>English/Swedish</td>\n",
       "      <td>6.500000</td>\n",
       "    </tr>\n",
       "    <tr>\n",
       "      <th>12</th>\n",
       "      <td>English/Taiwanese/Mandarin</td>\n",
       "      <td>6.500000</td>\n",
       "    </tr>\n",
       "    <tr>\n",
       "      <th>13</th>\n",
       "      <td>English/Ukranian/Russian</td>\n",
       "      <td>8.400000</td>\n",
       "    </tr>\n",
       "    <tr>\n",
       "      <th>14</th>\n",
       "      <td>Filipino</td>\n",
       "      <td>5.100000</td>\n",
       "    </tr>\n",
       "    <tr>\n",
       "      <th>15</th>\n",
       "      <td>French</td>\n",
       "      <td>5.770000</td>\n",
       "    </tr>\n",
       "    <tr>\n",
       "      <th>16</th>\n",
       "      <td>Georgian</td>\n",
       "      <td>6.800000</td>\n",
       "    </tr>\n",
       "    <tr>\n",
       "      <th>17</th>\n",
       "      <td>German</td>\n",
       "      <td>5.640000</td>\n",
       "    </tr>\n",
       "    <tr>\n",
       "      <th>18</th>\n",
       "      <td>Hindi</td>\n",
       "      <td>5.981818</td>\n",
       "    </tr>\n",
       "    <tr>\n",
       "      <th>19</th>\n",
       "      <td>Indonesian</td>\n",
       "      <td>5.844444</td>\n",
       "    </tr>\n",
       "    <tr>\n",
       "      <th>20</th>\n",
       "      <td>Italian</td>\n",
       "      <td>5.542857</td>\n",
       "    </tr>\n",
       "    <tr>\n",
       "      <th>21</th>\n",
       "      <td>Japanese</td>\n",
       "      <td>6.400000</td>\n",
       "    </tr>\n",
       "    <tr>\n",
       "      <th>22</th>\n",
       "      <td>Khmer/English/French</td>\n",
       "      <td>7.200000</td>\n",
       "    </tr>\n",
       "    <tr>\n",
       "      <th>23</th>\n",
       "      <td>Korean</td>\n",
       "      <td>5.916667</td>\n",
       "    </tr>\n",
       "    <tr>\n",
       "      <th>24</th>\n",
       "      <td>Malay</td>\n",
       "      <td>4.200000</td>\n",
       "    </tr>\n",
       "    <tr>\n",
       "      <th>25</th>\n",
       "      <td>Marathi</td>\n",
       "      <td>6.066667</td>\n",
       "    </tr>\n",
       "    <tr>\n",
       "      <th>26</th>\n",
       "      <td>Norwegian</td>\n",
       "      <td>5.100000</td>\n",
       "    </tr>\n",
       "    <tr>\n",
       "      <th>27</th>\n",
       "      <td>Polish</td>\n",
       "      <td>5.166667</td>\n",
       "    </tr>\n",
       "    <tr>\n",
       "      <th>28</th>\n",
       "      <td>Portuguese</td>\n",
       "      <td>6.216667</td>\n",
       "    </tr>\n",
       "    <tr>\n",
       "      <th>29</th>\n",
       "      <td>Spanish</td>\n",
       "      <td>6.303226</td>\n",
       "    </tr>\n",
       "    <tr>\n",
       "      <th>30</th>\n",
       "      <td>Spanish/Basque</td>\n",
       "      <td>5.600000</td>\n",
       "    </tr>\n",
       "    <tr>\n",
       "      <th>31</th>\n",
       "      <td>Spanish/Catalan</td>\n",
       "      <td>6.400000</td>\n",
       "    </tr>\n",
       "    <tr>\n",
       "      <th>32</th>\n",
       "      <td>Spanish/English</td>\n",
       "      <td>7.300000</td>\n",
       "    </tr>\n",
       "    <tr>\n",
       "      <th>33</th>\n",
       "      <td>Swedish</td>\n",
       "      <td>5.500000</td>\n",
       "    </tr>\n",
       "    <tr>\n",
       "      <th>34</th>\n",
       "      <td>Tamil</td>\n",
       "      <td>7.200000</td>\n",
       "    </tr>\n",
       "    <tr>\n",
       "      <th>35</th>\n",
       "      <td>Thai</td>\n",
       "      <td>5.450000</td>\n",
       "    </tr>\n",
       "    <tr>\n",
       "      <th>36</th>\n",
       "      <td>Thia/English</td>\n",
       "      <td>6.700000</td>\n",
       "    </tr>\n",
       "    <tr>\n",
       "      <th>37</th>\n",
       "      <td>Turkish</td>\n",
       "      <td>5.660000</td>\n",
       "    </tr>\n",
       "  </tbody>\n",
       "</table>\n",
       "</div>"
      ],
      "text/plain": [
       "                      Language  IMDB Score\n",
       "0                      Bengali    7.100000\n",
       "1                        Dutch    5.800000\n",
       "2                      English    6.380050\n",
       "3                 English/Akan    7.700000\n",
       "4               English/Arabic    7.300000\n",
       "5                English/Hindi    7.300000\n",
       "6             English/Japanese    4.400000\n",
       "7               English/Korean    7.300000\n",
       "8             English/Mandarin    7.050000\n",
       "9              English/Russian    7.300000\n",
       "10             English/Spanish    6.220000\n",
       "11             English/Swedish    6.500000\n",
       "12  English/Taiwanese/Mandarin    6.500000\n",
       "13    English/Ukranian/Russian    8.400000\n",
       "14                    Filipino    5.100000\n",
       "15                      French    5.770000\n",
       "16                    Georgian    6.800000\n",
       "17                      German    5.640000\n",
       "18                       Hindi    5.981818\n",
       "19                  Indonesian    5.844444\n",
       "20                     Italian    5.542857\n",
       "21                    Japanese    6.400000\n",
       "22        Khmer/English/French    7.200000\n",
       "23                      Korean    5.916667\n",
       "24                       Malay    4.200000\n",
       "25                     Marathi    6.066667\n",
       "26                   Norwegian    5.100000\n",
       "27                      Polish    5.166667\n",
       "28                  Portuguese    6.216667\n",
       "29                     Spanish    6.303226\n",
       "30              Spanish/Basque    5.600000\n",
       "31             Spanish/Catalan    6.400000\n",
       "32             Spanish/English    7.300000\n",
       "33                     Swedish    5.500000\n",
       "34                       Tamil    7.200000\n",
       "35                        Thai    5.450000\n",
       "36                Thia/English    6.700000\n",
       "37                     Turkish    5.660000"
      ]
     },
     "execution_count": 26,
     "metadata": {},
     "output_type": "execute_result"
    }
   ],
   "source": [
    "lm.reset_index(inplace=True)\n",
    "lm"
   ]
  },
  {
   "cell_type": "code",
   "execution_count": 27,
   "id": "eb3a9085",
   "metadata": {
    "scrolled": true
   },
   "outputs": [
    {
     "data": {
      "text/plain": [
       "<AxesSubplot:xlabel='IMDB Score', ylabel='Language'>"
      ]
     },
     "execution_count": 27,
     "metadata": {},
     "output_type": "execute_result"
    },
    {
     "data": {
      "image/png": "[encoded data removed]",
      "text/plain": [
       "<Figure size 1080x1080 with 1 Axes>"
      ]
     },
     "metadata": {},
     "output_type": "display_data"
    }
   ],
   "source": [
    "sns.set(rc = {'figure.figsize':(15,15)})\n",
    "sns.barplot(x=\"IMDB Score\", y=\"Language\" , data=lm) #figsize büyütülecek\n"
   ]
  },
  {
   "cell_type": "code",
   "execution_count": 28,
   "id": "9bba92ea",
   "metadata": {},
   "outputs": [
    {
     "data": {
      "text/html": [
       "<div>\n",
       "<style scoped>\n",
       "    .dataframe tbody tr th:only-of-type {\n",
       "        vertical-align: middle;\n",
       "    }\n",
       "\n",
       "    .dataframe tbody tr th {\n",
       "        vertical-align: top;\n",
       "    }\n",
       "\n",
       "    .dataframe thead th {\n",
       "        text-align: right;\n",
       "    }\n",
       "</style>\n",
       "<table border=\"1\" class=\"dataframe\">\n",
       "  <thead>\n",
       "    <tr style=\"text-align: right;\">\n",
       "      <th></th>\n",
       "      <th>Language</th>\n",
       "      <th>IMDB Score</th>\n",
       "    </tr>\n",
       "  </thead>\n",
       "  <tbody>\n",
       "    <tr>\n",
       "      <th>24</th>\n",
       "      <td>Malay</td>\n",
       "      <td>4.200000</td>\n",
       "    </tr>\n",
       "    <tr>\n",
       "      <th>6</th>\n",
       "      <td>English/Japanese</td>\n",
       "      <td>4.400000</td>\n",
       "    </tr>\n",
       "    <tr>\n",
       "      <th>26</th>\n",
       "      <td>Norwegian</td>\n",
       "      <td>5.100000</td>\n",
       "    </tr>\n",
       "    <tr>\n",
       "      <th>14</th>\n",
       "      <td>Filipino</td>\n",
       "      <td>5.100000</td>\n",
       "    </tr>\n",
       "    <tr>\n",
       "      <th>27</th>\n",
       "      <td>Polish</td>\n",
       "      <td>5.166667</td>\n",
       "    </tr>\n",
       "  </tbody>\n",
       "</table>\n",
       "</div>"
      ],
      "text/plain": [
       "            Language  IMDB Score\n",
       "24             Malay    4.200000\n",
       "6   English/Japanese    4.400000\n",
       "26         Norwegian    5.100000\n",
       "14          Filipino    5.100000\n",
       "27            Polish    5.166667"
      ]
     },
     "execution_count": 28,
     "metadata": {},
     "output_type": "execute_result"
    }
   ],
   "source": [
    "lm.sort_values(\"IMDB Score\").head()"
   ]
  },
  {
   "cell_type": "markdown",
   "id": "92b9d55b",
   "metadata": {},
   "source": [
    "En düşük ortalama IMBD puanına sahip olan filmler malayca dilinde yayımlanmıştır."
   ]
  },
  {
   "cell_type": "markdown",
   "id": "ce0d37d4",
   "metadata": {},
   "source": [
    "### 13. Hangi yılın toplam \"runtime\" süresi en fazladır?"
   ]
  },
  {
   "cell_type": "code",
   "execution_count": 29,
   "id": "9735a446",
   "metadata": {
    "scrolled": true
   },
   "outputs": [
    {
     "data": {
      "text/html": [
       "<div>\n",
       "<style scoped>\n",
       "    .dataframe tbody tr th:only-of-type {\n",
       "        vertical-align: middle;\n",
       "    }\n",
       "\n",
       "    .dataframe tbody tr th {\n",
       "        vertical-align: top;\n",
       "    }\n",
       "\n",
       "    .dataframe thead th {\n",
       "        text-align: right;\n",
       "    }\n",
       "</style>\n",
       "<table border=\"1\" class=\"dataframe\">\n",
       "  <thead>\n",
       "    <tr style=\"text-align: right;\">\n",
       "      <th></th>\n",
       "      <th>sum</th>\n",
       "    </tr>\n",
       "    <tr>\n",
       "      <th>Premiere</th>\n",
       "      <th></th>\n",
       "    </tr>\n",
       "  </thead>\n",
       "  <tbody>\n",
       "    <tr>\n",
       "      <th>2014</th>\n",
       "      <td>81</td>\n",
       "    </tr>\n",
       "    <tr>\n",
       "      <th>2015</th>\n",
       "      <td>814</td>\n",
       "    </tr>\n",
       "    <tr>\n",
       "      <th>2016</th>\n",
       "      <td>2766</td>\n",
       "    </tr>\n",
       "    <tr>\n",
       "      <th>2017</th>\n",
       "      <td>6129</td>\n",
       "    </tr>\n",
       "    <tr>\n",
       "      <th>2018</th>\n",
       "      <td>9405</td>\n",
       "    </tr>\n",
       "    <tr>\n",
       "      <th>2019</th>\n",
       "      <td>10856</td>\n",
       "    </tr>\n",
       "    <tr>\n",
       "      <th>2020</th>\n",
       "      <td>17384</td>\n",
       "    </tr>\n",
       "    <tr>\n",
       "      <th>2021</th>\n",
       "      <td>7214</td>\n",
       "    </tr>\n",
       "  </tbody>\n",
       "</table>\n",
       "</div>"
      ],
      "text/plain": [
       "            sum\n",
       "Premiere       \n",
       "2014         81\n",
       "2015        814\n",
       "2016       2766\n",
       "2017       6129\n",
       "2018       9405\n",
       "2019      10856\n",
       "2020      17384\n",
       "2021       7214"
      ]
     },
     "execution_count": 29,
     "metadata": {},
     "output_type": "execute_result"
    }
   ],
   "source": [
    "df_year_r = df.groupby(df['Premiere'].dt.year)[\"Runtime\"].agg(['sum'])\n",
    "df_year_r"
   ]
  },
  {
   "cell_type": "markdown",
   "id": "89cf00a3",
   "metadata": {},
   "source": [
    "En çok runtime'a sahip olan yıl 2020 yılıdır."
   ]
  },
  {
   "cell_type": "markdown",
   "id": "5d49bac5",
   "metadata": {},
   "source": [
    "### 14. Her bir dilin en fazla kullanıldığı \"Genre\" nedir?"
   ]
  },
  {
   "cell_type": "code",
   "execution_count": 30,
   "id": "209539de",
   "metadata": {
    "scrolled": true
   },
   "outputs": [
    {
     "data": {
      "text/html": [
       "<div>\n",
       "<style scoped>\n",
       "    .dataframe tbody tr th:only-of-type {\n",
       "        vertical-align: middle;\n",
       "    }\n",
       "\n",
       "    .dataframe tbody tr th {\n",
       "        vertical-align: top;\n",
       "    }\n",
       "\n",
       "    .dataframe thead th {\n",
       "        text-align: right;\n",
       "    }\n",
       "</style>\n",
       "<table border=\"1\" class=\"dataframe\">\n",
       "  <thead>\n",
       "    <tr style=\"text-align: right;\">\n",
       "      <th></th>\n",
       "      <th>Genre</th>\n",
       "    </tr>\n",
       "    <tr>\n",
       "      <th>Language</th>\n",
       "      <th></th>\n",
       "    </tr>\n",
       "  </thead>\n",
       "  <tbody>\n",
       "    <tr>\n",
       "      <th>Bengali</th>\n",
       "      <td>Documentary</td>\n",
       "    </tr>\n",
       "    <tr>\n",
       "      <th>Dutch</th>\n",
       "      <td>Romantic comedy</td>\n",
       "    </tr>\n",
       "    <tr>\n",
       "      <th>English</th>\n",
       "      <td>Zombie/Heist</td>\n",
       "    </tr>\n",
       "    <tr>\n",
       "      <th>English/Akan</th>\n",
       "      <td>War drama</td>\n",
       "    </tr>\n",
       "    <tr>\n",
       "      <th>English/Arabic</th>\n",
       "      <td>Documentary</td>\n",
       "    </tr>\n",
       "    <tr>\n",
       "      <th>English/Hindi</th>\n",
       "      <td>Documentary</td>\n",
       "    </tr>\n",
       "    <tr>\n",
       "      <th>English/Japanese</th>\n",
       "      <td>Documentary</td>\n",
       "    </tr>\n",
       "    <tr>\n",
       "      <th>English/Korean</th>\n",
       "      <td>Action-adventure</td>\n",
       "    </tr>\n",
       "    <tr>\n",
       "      <th>English/Mandarin</th>\n",
       "      <td>Documentary</td>\n",
       "    </tr>\n",
       "    <tr>\n",
       "      <th>English/Russian</th>\n",
       "      <td>Documentary</td>\n",
       "    </tr>\n",
       "    <tr>\n",
       "      <th>English/Spanish</th>\n",
       "      <td>Documentary</td>\n",
       "    </tr>\n",
       "    <tr>\n",
       "      <th>English/Swedish</th>\n",
       "      <td>Documentary</td>\n",
       "    </tr>\n",
       "    <tr>\n",
       "      <th>English/Taiwanese/Mandarin</th>\n",
       "      <td>Drama</td>\n",
       "    </tr>\n",
       "    <tr>\n",
       "      <th>English/Ukranian/Russian</th>\n",
       "      <td>Documentary</td>\n",
       "    </tr>\n",
       "    <tr>\n",
       "      <th>Filipino</th>\n",
       "      <td>Thriller</td>\n",
       "    </tr>\n",
       "    <tr>\n",
       "      <th>French</th>\n",
       "      <td>Thriller</td>\n",
       "    </tr>\n",
       "    <tr>\n",
       "      <th>Georgian</th>\n",
       "      <td>Documentary</td>\n",
       "    </tr>\n",
       "    <tr>\n",
       "      <th>German</th>\n",
       "      <td>Thriller</td>\n",
       "    </tr>\n",
       "    <tr>\n",
       "      <th>Hindi</th>\n",
       "      <td>Thriller</td>\n",
       "    </tr>\n",
       "    <tr>\n",
       "      <th>Indonesian</th>\n",
       "      <td>Romantic drama</td>\n",
       "    </tr>\n",
       "    <tr>\n",
       "      <th>Italian</th>\n",
       "      <td>Sports film</td>\n",
       "    </tr>\n",
       "    <tr>\n",
       "      <th>Japanese</th>\n",
       "      <td>Psychological thriller drama</td>\n",
       "    </tr>\n",
       "    <tr>\n",
       "      <th>Khmer/English/French</th>\n",
       "      <td>Drama</td>\n",
       "    </tr>\n",
       "    <tr>\n",
       "      <th>Korean</th>\n",
       "      <td>Thriller</td>\n",
       "    </tr>\n",
       "    <tr>\n",
       "      <th>Malay</th>\n",
       "      <td>Action comedy</td>\n",
       "    </tr>\n",
       "    <tr>\n",
       "      <th>Marathi</th>\n",
       "      <td>Drama</td>\n",
       "    </tr>\n",
       "    <tr>\n",
       "      <th>Norwegian</th>\n",
       "      <td>Horror</td>\n",
       "    </tr>\n",
       "    <tr>\n",
       "      <th>Polish</th>\n",
       "      <td>Thriller</td>\n",
       "    </tr>\n",
       "    <tr>\n",
       "      <th>Portuguese</th>\n",
       "      <td>Western</td>\n",
       "    </tr>\n",
       "    <tr>\n",
       "      <th>Spanish</th>\n",
       "      <td>Thriller</td>\n",
       "    </tr>\n",
       "    <tr>\n",
       "      <th>Spanish/Basque</th>\n",
       "      <td>Black comedy</td>\n",
       "    </tr>\n",
       "    <tr>\n",
       "      <th>Spanish/Catalan</th>\n",
       "      <td>Documentary</td>\n",
       "    </tr>\n",
       "    <tr>\n",
       "      <th>Spanish/English</th>\n",
       "      <td>Documentary</td>\n",
       "    </tr>\n",
       "    <tr>\n",
       "      <th>Swedish</th>\n",
       "      <td>Thriller</td>\n",
       "    </tr>\n",
       "    <tr>\n",
       "      <th>Tamil</th>\n",
       "      <td>Drama</td>\n",
       "    </tr>\n",
       "    <tr>\n",
       "      <th>Thai</th>\n",
       "      <td>Horror</td>\n",
       "    </tr>\n",
       "    <tr>\n",
       "      <th>Thia/English</th>\n",
       "      <td>Documentary</td>\n",
       "    </tr>\n",
       "    <tr>\n",
       "      <th>Turkish</th>\n",
       "      <td>Romance</td>\n",
       "    </tr>\n",
       "  </tbody>\n",
       "</table>\n",
       "</div>"
      ],
      "text/plain": [
       "                                                   Genre\n",
       "Language                                                \n",
       "Bengali                                      Documentary\n",
       "Dutch                                    Romantic comedy\n",
       "English                                     Zombie/Heist\n",
       "English/Akan                                   War drama\n",
       "English/Arabic                               Documentary\n",
       "English/Hindi                                Documentary\n",
       "English/Japanese                             Documentary\n",
       "English/Korean                          Action-adventure\n",
       "English/Mandarin                             Documentary\n",
       "English/Russian                              Documentary\n",
       "English/Spanish                              Documentary\n",
       "English/Swedish                              Documentary\n",
       "English/Taiwanese/Mandarin                         Drama\n",
       "English/Ukranian/Russian                     Documentary\n",
       "Filipino                                        Thriller\n",
       "French                                          Thriller\n",
       "Georgian                                     Documentary\n",
       "German                                          Thriller\n",
       "Hindi                                           Thriller\n",
       "Indonesian                                Romantic drama\n",
       "Italian                                      Sports film\n",
       "Japanese                    Psychological thriller drama\n",
       "Khmer/English/French                               Drama\n",
       "Korean                                          Thriller\n",
       "Malay                                      Action comedy\n",
       "Marathi                                            Drama\n",
       "Norwegian                                         Horror\n",
       "Polish                                          Thriller\n",
       "Portuguese                                       Western\n",
       "Spanish                                         Thriller\n",
       "Spanish/Basque                              Black comedy\n",
       "Spanish/Catalan                              Documentary\n",
       "Spanish/English                              Documentary\n",
       "Swedish                                         Thriller\n",
       "Tamil                                              Drama\n",
       "Thai                                              Horror\n",
       "Thia/English                                 Documentary\n",
       "Turkish                                          Romance"
      ]
     },
     "execution_count": 30,
     "metadata": {},
     "output_type": "execute_result"
    }
   ],
   "source": [
    " df.groupby(\"Language\").agg({\"Genre\":\"max\"})"
   ]
  },
  {
   "cell_type": "markdown",
   "id": "02cfd9ee",
   "metadata": {},
   "source": [
    "### 15. Veri setinde outlier veri var mıdır? Açıklayınız."
   ]
  },
  {
   "cell_type": "code",
   "execution_count": 31,
   "id": "455e835b",
   "metadata": {
    "scrolled": true
   },
   "outputs": [
    {
     "data": {
      "image/png": "[encoded data removed]",
      "text/plain": [
       "<Figure size 1080x1080 with 1 Axes>"
      ]
     },
     "metadata": {},
     "output_type": "display_data"
    }
   ],
   "source": [
    "plt.boxplot(df[\"Runtime\"],vert=0)\n",
    "plt.show()"
   ]
  },
  {
   "cell_type": "code",
   "execution_count": 32,
   "id": "81025dd7",
   "metadata": {
    "scrolled": true
   },
   "outputs": [
    {
     "data": {
      "image/png": "[encoded data removed]",
      "text/plain": [
       "<Figure size 1080x1080 with 1 Axes>"
      ]
     },
     "metadata": {},
     "output_type": "display_data"
    }
   ],
   "source": [
    "plt.boxplot(df[\"IMDB Score\"],vert=0)\n",
    "plt.show()"
   ]
  },
  {
   "cell_type": "code",
   "execution_count": 33,
   "id": "c22a2943",
   "metadata": {},
   "outputs": [],
   "source": [
    "def outlier_thresholds(dataframe, col_name, q1=0.25, q3=0.75):\n",
    "    quartile1=dataframe[col_name].quantile(q1)\n",
    "    quartile3=dataframe[col_name].quantile(q3)\n",
    "    interquantile_range = quartile3 - quartile1\n",
    "    up_limit= quartile3 + interquantile_range*1.5\n",
    "    low_limit= quartile1 - interquantile_range*1.5\n",
    "    return low_limit, up_limit"
   ]
  },
  {
   "cell_type": "code",
   "execution_count": 34,
   "id": "e59f30d3",
   "metadata": {},
   "outputs": [],
   "source": [
    "def check_outlier(dataframe, col_name):\n",
    "    low_limit,up_limit = outlier_thresholds(dataframe, col_name)\n",
    "    if dataframe[(dataframe[col_name] > up_limit) | (dataframe[col_name] < low_limit)].any(axis=None):\n",
    "        return True\n",
    "    else:\n",
    "        return False"
   ]
  },
  {
   "cell_type": "code",
   "execution_count": 35,
   "id": "11e937ad",
   "metadata": {},
   "outputs": [
    {
     "data": {
      "text/plain": [
       "True"
      ]
     },
     "execution_count": 35,
     "metadata": {},
     "output_type": "execute_result"
    }
   ],
   "source": [
    "check_outlier(df,\"IMDB Score\")"
   ]
  },
  {
   "cell_type": "code",
   "execution_count": 36,
   "id": "12d977e6",
   "metadata": {},
   "outputs": [
    {
     "data": {
      "text/plain": [
       "True"
      ]
     },
     "execution_count": 36,
     "metadata": {},
     "output_type": "execute_result"
    }
   ],
   "source": [
    "check_outlier(df,\"Runtime\")"
   ]
  },
  {
   "cell_type": "code",
   "execution_count": null,
   "id": "936d6123",
   "metadata": {},
   "outputs": [],
   "source": []
  }
 ],
 "metadata": {
  "kernelspec": {
   "display_name": "Python 3",
   "language": "python",
   "name": "python3"
  },
  "language_info": {
   "codemirror_mode": {
    "name": "ipython",
    "version": 3
   },
   "file_extension": ".py",
   "mimetype": "text/x-python",
   "name": "python",
   "nbconvert_exporter": "python",
   "pygments_lexer": "ipython3",
   "version": "3.8.8"
  }
 },
 "nbformat": 4,
 "nbformat_minor": 5
}
