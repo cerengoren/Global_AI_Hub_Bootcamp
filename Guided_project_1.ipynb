{
  "cells": [
    {
      "cell_type": "markdown",
      "metadata": {
        "id": "view-in-github",
        "colab_type": "text"
      },
      "source": [
        "<a href=\"https://colab.research.google.com/github/cerengoren/Global_AI_Hub_Projects/blob/main/Guided_project_1.ipynb\" target=\"_parent\"><img src=\"https://colab.research.google.com/assets/colab-badge.svg\" alt=\"Open In Colab\"/></a>"
      ]
    },
    {
      "cell_type": "markdown",
      "source": [
        "# Chapter 1\n",
        "### Your first day at your new job 👩‍💻👨‍💻\n",
        "\n",
        "You are starting a new job as a junior software developer in an IT company. \n",
        "\n",
        "The company’s HR department asks you to fill out a form, so you start by assigning your personal information to corresponding variables.\n",
        "\n",
        "📌 Create a variable for your name, surname, age, ID number, place of residence, to specify if you have active health insurance or not, and lastly one for specifying your nationality.\n"
      ],
      "metadata": {
        "id": "VMuUK0ap_bRD"
      }
    },
    {
      "cell_type": "code",
      "execution_count": null,
      "metadata": {
        "id": "OPLhhc2Sp-D0"
      },
      "outputs": [],
      "source": [
        "#Please assign your personal information to variables\n",
        "name=\"ceren\"\n",
        "surname=\"goren\"\n",
        "age=22\n",
        "ıd=123456789\n",
        "pres=\"istanbul\"\n",
        "hi= False\n",
        "nationality=\"turkish\"\n"
      ]
    },
    {
      "cell_type": "markdown",
      "metadata": {
        "id": "3zaUlxwcp-D0"
      },
      "source": [
        "###Meet And Greet\n",
        "Introduce yourself to your new co-workers.\n",
        "\n",
        "📌 Use a f-string to print \"My name is Joey Tribbiani I am 25 years old and I live in London”."
      ]
    },
    {
      "cell_type": "code",
      "source": [
        "#Write a sentence using the print function to describe yourself using the variables above in the correct data type\n",
        "print(f\"My name is {name}. I am {age} years old. I live in {pres}.\")"
      ],
      "metadata": {
        "id": "XNuh5_2WXwvg",
        "colab": {
          "base_uri": "https://localhost:8080/"
        },
        "outputId": "a98598c3-9fbb-4608-d8b7-ddc11f5ad7f5"
      },
      "execution_count": null,
      "outputs": [
        {
          "output_type": "stream",
          "name": "stdout",
          "text": [
            "My name is ceren. I am 22 years old. I live in istanbul.\n"
          ]
        }
      ]
    },
    {
      "cell_type": "markdown",
      "metadata": {
        "id": "EEL9To4ip-D1"
      },
      "source": [
        "### Equipment starter pack\n",
        "The HR department asks you to list the items you would need to improve your work efficiency\n",
        "\n",
        "Mandatory:\n",
        "* Laptop\n",
        "* Headset\n",
        "* Second monitor\n",
        "\n",
        "Optional:\n",
        "* Mousepad\n",
        "* USB drive\n",
        "* External drive\n",
        "\n",
        "\n",
        "📌 Create a shopping list that contains items above and print it."
      ]
    },
    {
      "cell_type": "code",
      "execution_count": null,
      "metadata": {
        "id": "fPFBLDyqp-D2"
      },
      "outputs": [],
      "source": [
        "#Create the item_list\n",
        "item_list=[\"Laptop\",\"Headset\",\"Second monitor\",\"Mousepad\",\"USB drive\",\"External drive\"]\n"
      ]
    },
    {
      "cell_type": "code",
      "source": [
        "#Print the list\n",
        "print(item_list)"
      ],
      "metadata": {
        "id": "358R_CN5U2-J",
        "colab": {
          "base_uri": "https://localhost:8080/"
        },
        "outputId": "0d542d47-6352-4deb-c84d-d1e728c43b15"
      },
      "execution_count": null,
      "outputs": [
        {
          "output_type": "stream",
          "name": "stdout",
          "text": [
            "['Laptop', 'Headset', 'Second monitor', 'Mousepad', 'USB drive', 'External drive']\n"
          ]
        }
      ]
    },
    {
      "cell_type": "markdown",
      "metadata": {
        "id": "5keEWjCyp-D2"
      },
      "source": [
        "####What is mandatory and what is optional?\n",
        "\n",
        "📌 Use list slicing to devide your list in two list: 'mandatory_item_list' and 'optional_item_list' and print both to the screen."
      ]
    },
    {
      "cell_type": "code",
      "execution_count": null,
      "metadata": {
        "id": "E6ewuDYZp-D2"
      },
      "outputs": [],
      "source": [
        "#Use list slicing to divide the mandatory items\n",
        "mandatory=item_list[0:3]"
      ]
    },
    {
      "cell_type": "code",
      "source": [
        ""
      ],
      "metadata": {
        "id": "Tm8fH1tGCx_I"
      },
      "execution_count": null,
      "outputs": []
    },
    {
      "cell_type": "code",
      "source": [
        "#Use list slicing to divide the optional items\n",
        "optional=item_list[3:6]"
      ],
      "metadata": {
        "id": "hOmkym01RGEL"
      },
      "execution_count": null,
      "outputs": []
    },
    {
      "cell_type": "code",
      "source": [
        "#Print both to the screen\n",
        "print(mandatory,optional)"
      ],
      "metadata": {
        "id": "xsVv1_msVE1_",
        "colab": {
          "base_uri": "https://localhost:8080/"
        },
        "outputId": "42529fc8-14a8-46bc-86fc-18d96f4e4b81"
      },
      "execution_count": null,
      "outputs": [
        {
          "output_type": "stream",
          "name": "stdout",
          "text": [
            "['Laptop', 'Headset', 'Second monitor'] ['Mousepad', 'USB drive', 'External drive']\n"
          ]
        }
      ]
    },
    {
      "cell_type": "markdown",
      "metadata": {
        "id": "s_M1Q93wp-D3"
      },
      "source": [
        "#### Go Shopping\n",
        "Next, you will have to go and purchase these items, the finance department confirmed a budget of $5000.\n",
        "\n",
        "📌 Assign 5000 to a variable called limit, so you know how much you can spend."
      ]
    },
    {
      "cell_type": "code",
      "execution_count": null,
      "metadata": {
        "id": "nCmpm0oqp-D3"
      },
      "outputs": [],
      "source": [
        "#Assign the spending limit value to a variable ca\n",
        "limit=5000"
      ]
    },
    {
      "cell_type": "markdown",
      "metadata": {
        "id": "VwbEEymVp-D3"
      },
      "source": [
        "####Price dictionary\n",
        "\n",
        "Before you start shopping yo need to find the best items that you can buy within the company budget. \n",
        "\n",
        "📌 Prepare a dictionary called “price_sheet” that includes the items as keys and the prices as values.  \n",
        " "
      ]
    },
    {
      "cell_type": "code",
      "execution_count": null,
      "metadata": {
        "id": "9o9n9Ag-p-D3"
      },
      "outputs": [],
      "source": [
        "#Create a dictionary that contains each item and its price\n",
        "\n",
        "price_sheet={\n",
        "    \"Laptop\":1500,\n",
        "    \"Headset\":100,\n",
        "    \"Second monitor\":200,\n",
        "    \"Mousepad\":50,\n",
        "    \"USB drive\":70,\n",
        "    \"External drive\":250}\n"
      ]
    },
    {
      "cell_type": "markdown",
      "metadata": {
        "id": "rUYivBVEBhCv"
      },
      "source": [
        "####Shopping functions\n",
        "\n",
        "You need to define three functions that will help you during shopping.\n",
        "\n",
        "📌 First, create an empty list that  will be your shopping cart. Here you will add the items you need to purchase.\n",
        "\n",
        "1. Define a function for both adding items to the cart and removing them from the item_list.\n",
        "\n",
        "📌 The \"add_to_cart\" function should take the item name and the quantity to buy as an argument. \n",
        "\n",
        "2. Define a function that will create an invoice. \n",
        "\n",
        "📌 The \"create_invoice\" function should calculate the taxes of each item (18%) and add it to the total amount.\n",
        "\n",
        "3. Define a function for the checkout. \n",
        "\n",
        "📌 The \"checkout\" function should subtract the total amount from the budget and print a statement to inform if the payment was successful. "
      ]
    },
    {
      "cell_type": "code",
      "source": [
        "#Initialize the cart list\n",
        "cart=[]\n",
        "\n"
      ],
      "metadata": {
        "id": "dBNZ2ZdkGHUe"
      },
      "execution_count": null,
      "outputs": []
    },
    {
      "cell_type": "code",
      "source": [
        "#Define the \"add_to_cart\" function\n",
        "def add_to_cart(item,quantity):\n",
        "  cart.append((item,quantity))\n",
        "  item_list.remove(item)"
      ],
      "metadata": {
        "id": "HH26hHHFGKPJ"
      },
      "execution_count": null,
      "outputs": []
    },
    {
      "cell_type": "code",
      "source": [
        "#Define the \"create_invoice\" function\n",
        "def create_invoice():\n",
        "  total_amount_inc_tax=0\n",
        "  for item,quantity in cart:\n",
        "    price=price_sheet[item]\n",
        "    tax=price*0.25\n",
        "    total=(tax+price)*quantity\n",
        "    total_amount_inc_tax +=total\n",
        "    print(\"Item:\",item ,\"\\t\", \"Price:\",price, \"\\t\" ,\"Tax:\" ,tax, \"\\t\", \"Total:\",total, \"\\n\")\n",
        "  print(\"After the taxes are applied the total amount is\",\"\\t\",total_amount_inc_tax)\n",
        "  return total_amount_inc_tax\n"
      ],
      "metadata": {
        "id": "TUmNr4xVGQdm"
      },
      "execution_count": null,
      "outputs": []
    },
    {
      "cell_type": "code",
      "source": [
        "#Define the \"checkout\" function\n",
        "def checkout():\n",
        "  global limit\n",
        "  total_amount= create_invoice()\n",
        "  if 0==limit:\n",
        "    print(\"you dont have any budget\")\n",
        "  elif total_amount > limit:\n",
        "    print(\"you have to drop some items\")\n",
        "  else:\n",
        "    limit-= total_amount\n",
        "    print(f\"total amount (incl.taxes) you ve paid is{total_amount}.YOu have{limit} dollars left.\")"
      ],
      "metadata": {
        "id": "iUlKiXgMGdIk"
      },
      "execution_count": null,
      "outputs": []
    },
    {
      "cell_type": "markdown",
      "source": [
        "Let's shop!"
      ],
      "metadata": {
        "id": "2IFUlu0yB0In"
      }
    },
    {
      "cell_type": "code",
      "source": [
        "#Call the \"add_to_cart\" function for each item\n",
        "add_to_cart(\"Laptop\",1)\n",
        "#Add first item to cart\n",
        "add_to_cart(\"Headset\",8)\n",
        "add_to_cart(\"Second monitor\",1)\n",
        "add_to_cart(\"Mousepad\",1)\n",
        "add_to_cart(\"USB drive\",2)\n",
        "add_to_cart(\"External drive\",4) \n",
        "#Add second item to cart\n",
        "\n",
        " \n",
        "#Add third item to cart\n",
        "\n",
        " \n",
        "#Add fourth item to cart\n",
        "\n",
        " \n",
        "#Add fifth item to cart\n",
        "\n",
        " \n",
        "#Add last item to cart\n",
        "\n",
        " \n",
        "#Call the create \"checkout\" function to pay for all your items \n",
        "checkout()"
      ],
      "metadata": {
        "id": "FDO7CRJTWPg7",
        "colab": {
          "base_uri": "https://localhost:8080/"
        },
        "outputId": "8bb7d4ea-a15b-47a3-e351-f0946f79c2a2"
      },
      "execution_count": null,
      "outputs": [
        {
          "output_type": "stream",
          "name": "stdout",
          "text": [
            "Item: Laptop \t Price: 1500 \t Tax: 375.0 \t Total: 1875.0 \n",
            "\n",
            "Item: Headset \t Price: 100 \t Tax: 25.0 \t Total: 1000.0 \n",
            "\n",
            "Item: Second monitor \t Price: 200 \t Tax: 50.0 \t Total: 250.0 \n",
            "\n",
            "Item: Mousepad \t Price: 50 \t Tax: 12.5 \t Total: 62.5 \n",
            "\n",
            "Item: USB drive \t Price: 70 \t Tax: 17.5 \t Total: 175.0 \n",
            "\n",
            "Item: External drive \t Price: 250 \t Tax: 62.5 \t Total: 1250.0 \n",
            "\n",
            "After the taxes are applied the total amount is \t 4612.5\n",
            "total amount (incl.taxes) you ve paid is4612.5.YOu have387.5 dollars left.\n"
          ]
        }
      ]
    },
    {
      "cell_type": "code",
      "source": [
        "add_to_cart(\"Laptop\",1)\n",
        "#Add first item to cart\n",
        "add_to_cart(\"Headset\",3)\n",
        "add_to_cart(\"Second monitor\",2)\n",
        "add_to_cart(\"Mousepad\",2)\n",
        "add_to_cart(\"USB drive\",1)\n",
        "add_to_cart(\"External drive\",1)\n",
        "checkout()"
      ],
      "metadata": {
        "colab": {
          "base_uri": "https://localhost:8080/"
        },
        "id": "i-mrOFMJWUea",
        "outputId": "ded2c186-b5d9-4034-cc1a-62b4aae03de7"
      },
      "execution_count": null,
      "outputs": [
        {
          "output_type": "stream",
          "name": "stdout",
          "text": [
            "Item: Laptop \t Price: 1500 \t Tax: 270.0 \t Total: 1770.0 \n",
            "\n",
            "Item: Headset \t Price: 100 \t Tax: 18.0 \t Total: 354.0 \n",
            "\n",
            "Item: Second monitor \t Price: 200 \t Tax: 36.0 \t Total: 472.0 \n",
            "\n",
            "Item: Mousepad \t Price: 50 \t Tax: 9.0 \t Total: 118.0 \n",
            "\n",
            "Item: USB drive \t Price: 70 \t Tax: 12.6 \t Total: 82.6 \n",
            "\n",
            "Item: External drive \t Price: 250 \t Tax: 45.0 \t Total: 295.0 \n",
            "\n",
            "After the taxes are applied the total amount is \t 3091.6\n",
            "total amount (incl.taxes) you ve paid is3091.6.YOu have1908.4 dollars left.\n"
          ]
        }
      ]
    },
    {
      "cell_type": "markdown",
      "source": [
        "###Game Night\n",
        "\n",
        "You are back at the office and the HR department organizes a welcome party for new employees. \n",
        "\n",
        "You decide to create a Rock-Paper-Scissor game. \n",
        "\n",
        "📌 Create a Rock-Paper-Scissor game in which the user plays against the computer. The player will choose one of the actions, and the computer will choose its action randomly.\n"
      ],
      "metadata": {
        "id": "ZL-r2x_xKixg"
      }
    },
    {
      "cell_type": "code",
      "source": [
        "#Import the random library\n",
        "import random\n"
      ],
      "metadata": {
        "id": "qzD5pxBTgcFb"
      },
      "execution_count": null,
      "outputs": []
    },
    {
      "cell_type": "code",
      "source": [
        "#create a list containing the three actions of the game.\n",
        "actions=[\"rock\",\"paper\",\"scissors\"]"
      ],
      "metadata": {
        "id": "oJv-ihLAgcRo"
      },
      "execution_count": null,
      "outputs": []
    },
    {
      "cell_type": "code",
      "source": [
        "#Set the scores of players to 0\n",
        "computer_score=0\n",
        "player_score=0\n",
        "\n",
        "#Ask the user how many rounds they want to play\n",
        "total_rounds=input(\"how many rounds do you want?\")\n",
        "\n",
        "\n",
        "#Add a round_counter that is 0 at the beginning\n",
        "round_counter=0\n",
        "\n",
        "#Write a while loop and put the game inside\n",
        "while True:\n",
        "\n",
        "\n",
        "  #Increase round_counter by and print it\n",
        "  round_counter += 1\n",
        "  print(\"Round Number :\",round_counter)\n",
        "\n",
        "\n",
        "  #Select a random action for computer\n",
        "  computer_choice=random.choice(actions)\n",
        "  \n",
        "\n",
        "  #Ask player to choose an action\n",
        "  player_choice=input(\"choose action\")\n",
        "\n",
        "  #Print the players choices\n",
        "  print( \"Computer:\",computer_choice,\"\\n Player:\",player_choice)\n",
        "  \n",
        "\n",
        "\n",
        "\n",
        "  #tie condition\n",
        "  \n",
        "\n",
        "\n",
        "  #Remaining conditions\n",
        "  if computer_choice == player_choice:\n",
        "    print(\"Tie! Both players chose the same action.\")\n",
        "  elif  computer_choice==\"paper\" and player_choice==\"rock\":\n",
        "    print(\"computer wins!\")\n",
        "    computer_score +=1\n",
        "  elif computer_choice==\"paper\" and player_choice==\"scissors\":\n",
        "    print(\"player wins!\")\n",
        "    player_score +=1\n",
        "  elif computer_choice==\"scissors\" and player_choice==\"rock\":\n",
        "    print(\"player wins!\")\n",
        "    player_score +=1\n",
        "  elif computer_choice==\"scissors\" and player_choice==\"paper\":\n",
        "    print(\"computer wins!\")\n",
        "    computer_score +=1\n",
        "  elif computer_choice==\"rock\" and player_choice==\"paper\":\n",
        "    print(\"player wins!\")\n",
        "    player_score +=1\n",
        "  elif computer_choice==\"rock\" and player_choice==\"scissors\":\n",
        "    print(\"computer wins!\")\n",
        "    computer_score +=1\n",
        "\n",
        "\n",
        "\n",
        "\n",
        "\n",
        "  #Stop the while loop if the round_counter equals the number of total rounds\n",
        "  if round_counter==int(total_rounds):\n",
        "    break\n",
        "\n",
        "\n",
        "#Print the outcome of the game by using conditional statements\n",
        "if computer_score == player_score:\n",
        "  print(\"tie\",computer_score, \":\", player_score)\n",
        "elif computer_score > player_score:\n",
        "  print(\"computer won with score\",computer_score, \":\", player_score)\n",
        "elif computer_score < player_score:\n",
        "  print(\"player won with score\",computer_score, \":\", player_score)"
      ],
      "metadata": {
        "id": "DNUa_9afWqMd",
        "colab": {
          "base_uri": "https://localhost:8080/"
        },
        "outputId": "b7b3e4da-0b6e-4f60-8768-6ea695a1b856"
      },
      "execution_count": null,
      "outputs": [
        {
          "output_type": "stream",
          "name": "stdout",
          "text": [
            "how many rounds do you want?1\n",
            "Round Number : 1\n",
            "choose actionpen\n",
            "Computer: paper \n",
            " Player: pen\n",
            "tie 0 : 0\n"
          ]
        }
      ]
    },
    {
      "cell_type": "markdown",
      "metadata": {
        "id": "jdrYN0Xgp-D6"
      },
      "source": [
        "# Your first task \n",
        "\n",
        "Rachel asks you to write a program to track the name and revenue each employee brings.  \n",
        "\n",
        "* Create the \"salesperson_revenue\" dictionary to see the employee name as a key and the revenue as a value.\n",
        "\n",
        "  📌 Every employee starts with 0 revenue.\n",
        "* Define the \"enter_revenue\" function. \n",
        "\n",
        "  📌 The function takes the name and revenue as an argument and updates the salesperson_revenue dictionary.\n"
      ]
    },
    {
      "cell_type": "code",
      "source": [
        "#Create salesperson_revenue dictionary\n",
        "salesperson_revenue={\n",
        "    \"Ben\":0,\n",
        "    \"Omer\":0,\n",
        "    \"Karen\":0,\n",
        "    \"Celine\":0,\n",
        "    \"Sue\":0,\n",
        "    \"Bora\":0,\n",
        "    \"Rose\":0,\n",
        "    \"Ellen\":0,\n",
        "\n",
        "\n",
        "}\n"
      ],
      "metadata": {
        "id": "3vzRo7hyMRv2"
      },
      "execution_count": null,
      "outputs": []
    },
    {
      "cell_type": "code",
      "source": [
        "#Define enter_revenue function\n",
        "def enter_revenue(name,revenue):\n",
        "  global salesperson_revenue\n",
        "  salesperson_revenue[name] += revenue\n",
        "\n"
      ],
      "metadata": {
        "id": "m-8IozBwMRzM"
      },
      "execution_count": null,
      "outputs": []
    },
    {
      "cell_type": "markdown",
      "source": [
        "####Try out the functions\n",
        "* In a while loop ask the user to give the name of the employee and for the revenue \n",
        "\n",
        "  📌 If the user enters “quit” the loop should break.\n",
        "\n",
        "After that, print out the salesperson_revenue dictionary.\n"
      ],
      "metadata": {
        "id": "UnTGSoNTi58u"
      }
    },
    {
      "cell_type": "code",
      "source": [
        "#Asking user employee name as input\n",
        "while True :\n",
        "  name=input(\"Employee name:\")\n",
        "  if name == \"quit\":\n",
        "    break\n",
        "  revenue=int(input(\"Enter revenue:\"))\n",
        "  enter_revenue(name,revenue)\n",
        "  print(f\"{name}2s revenue is {salesperson_revenue[name]}\")"
      ],
      "metadata": {
        "id": "2E549VvFXNi6",
        "colab": {
          "base_uri": "https://localhost:8080/"
        },
        "outputId": "5d6fd92b-7843-430a-a8a3-9afd0989bcf6"
      },
      "execution_count": null,
      "outputs": [
        {
          "name": "stdout",
          "output_type": "stream",
          "text": [
            "Employee name:Ben\n",
            "Enter revenue:20\n",
            "Ben2s revenue is 20\n",
            "Employee name:Omer\n",
            "Enter revenue:50\n",
            "Omer2s revenue is 50\n",
            "Employee name:Ben\n",
            "Enter revenue:115\n",
            "Ben2s revenue is 135\n",
            "Employee name:quit\n"
          ]
        }
      ]
    },
    {
      "cell_type": "code",
      "source": [
        "#Print the salesperson_revenue dictionary\n",
        "print(salesperson_revenue)"
      ],
      "metadata": {
        "id": "OAvl9rgOXPe6",
        "colab": {
          "base_uri": "https://localhost:8080/"
        },
        "outputId": "6838ba7f-11d9-4251-a147-e174789010a1"
      },
      "execution_count": null,
      "outputs": [
        {
          "output_type": "stream",
          "name": "stdout",
          "text": [
            "{'Ben': 135, 'Omer': 50, 'Karen': 0, 'Celine': 0, 'Sue': 0, 'Bora': 0, 'Rose': 0, 'Ellen': 0}\n"
          ]
        }
      ]
    },
    {
      "cell_type": "code",
      "source": [
        ""
      ],
      "metadata": {
        "id": "cs0NaU23VrGK"
      },
      "execution_count": null,
      "outputs": []
    }
  ],
  "metadata": {
    "interpreter": {
      "hash": "c5914ae3790566b9cd0e984a9bdda42a29da8adf046b5ac0173e0d37aacf3dab"
    },
    "kernelspec": {
      "display_name": "Python 3.9.7",
      "language": "python",
      "name": "python3"
    },
    "language_info": {
      "codemirror_mode": {
        "name": "ipython",
        "version": 3
      },
      "file_extension": ".py",
      "mimetype": "text/x-python",
      "name": "python",
      "nbconvert_exporter": "python",
      "pygments_lexer": "ipython3",
      "version": "3.9.7"
    },
    "orig_nbformat": 4,
    "colab": {
      "name": "Guided_project_1.ipynb",
      "provenance": [],
      "collapsed_sections": [],
      "include_colab_link": true
    }
  },
  "nbformat": 4,
  "nbformat_minor": 0
}